{
 "cells": [
  {
   "cell_type": "markdown",
   "id": "67b663a0",
   "metadata": {},
   "source": [
    "In this tutorial we present the initial data preparation with mrbeam. The precalibration is done with the Calibrator class."
   ]
  },
  {
   "cell_type": "code",
   "execution_count": 4,
   "id": "a2635a09",
   "metadata": {},
   "outputs": [],
   "source": [
    "#-------------------------------------------------------------------------------\n",
    "# Modules\n",
    "#-------------------------------------------------------------------------------\n",
    "import ehtim as eh\n",
    "import numpy as np\n",
    "\n",
    "from imagingbase.ehtim_calibration import Calibrator\n",
    "\n",
    "import pathlib \n",
    "current_path = str(pathlib.Path().absolute())\n",
    "\n",
    "import logging\n",
    "logging.basicConfig(\n",
    "    level=logging.INFO,\n",
    "    format='%(asctime)s %(levelname)s %(name)-20s :: %(message)s'\n",
    ")"
   ]
  },
  {
   "cell_type": "markdown",
   "id": "768f4b25",
   "metadata": {},
   "source": [
    "Parameters for initial data-preparation"
   ]
  },
  {
   "cell_type": "code",
   "execution_count": 5,
   "id": "4d0c09cc",
   "metadata": {},
   "outputs": [],
   "source": [
    "#-------------------------------------------------------------------------------\n",
    "# Fixed parameters\n",
    "#-------------------------------------------------------------------------------\n",
    "ttype     = 'direct'            # Type of Fourier transform ('direct', 'nfft', or 'fast')\n",
    "\n",
    "zbl       = 0.6                 # Total compact flux density (Jy)\n",
    "npix      = 128                 # Number of pixels across the reconstructed image\n",
    "fov       = 256*eh.RADPERUAS    # Field of view of the reconstructed image\n",
    "\n",
    "sys_noise  = 0.02               # fractional systematic noise\n",
    "                                # added to complex visibilities    \n",
    "uv_zblcut = 0.1e9               # uv-distance that separates the inter-site \"zero\"-baselines\n",
    "                                # from intra-site baselines\n",
    "zero_baseline = ['AA', 'AP']    # baseline to measure zero-spacing flux"
   ]
  },
  {
   "cell_type": "markdown",
   "id": "3234df21",
   "metadata": {},
   "source": [
    "There are two essential commands to prepare an observation file for further data analysis. Calibrator.prepare_data() will add scans to the observation, provide cohrent scan-averaging, flag baselines, check zero-spacing flux for consistency and reorder stations by SNR to create a minimal set of closure quantities. Calibrator.precalibrate_data() adds a fractional systematic noise to the observation and adds a taper if needed."
   ]
  },
  {
   "cell_type": "code",
   "execution_count": 6,
   "id": "d29e27c7",
   "metadata": {},
   "outputs": [
    {
     "name": "stdout",
     "output_type": "stream",
     "text": [
      "Loading uvfits:  C:\\Users\\hendr\\Documents\\PhD\\mrbeam\\mr_beam\\examples/../synthetic_data/ring_eht2017.uvfits\n",
      "no IF in uvfits header!\n",
      "POLREP_UVFITS: circ\n",
      "Number of uvfits Correlation Products: 4\n",
      "No NX table in uvfits!\n",
      "Warning: Specified total compact flux density exceeds total flux density\n"
     ]
    }
   ],
   "source": [
    "#-------------------------------------------------------------------------------\n",
    "# Observe synthetic image and reduce/precalibrate synthetic observation\n",
    "#-------------------------------------------------------------------------------\n",
    "\n",
    "#load observation file\n",
    "obs = eh.obsdata.load_uvfits(current_path+r'/../synthetic_data/ring_eht2017.uvfits')\n",
    "\n",
    "#calibration object\n",
    "cal = Calibrator(obs, zero_baseline, zbl, uv_zblcut, 0, sys_noise)\n",
    "#prepare (coherently average) data\n",
    "cal.prepare_data()\n",
    "\n",
    "res = cal.obs.res()  # The nominal array resolution: 1/(longest baseline)\n",
    "\n",
    "#precalibrate data\n",
    "cal.precalibrate_data()\n",
    "\n",
    "obs_sc = cal.obs_sc #precalibrated and reduced data set"
   ]
  },
  {
   "cell_type": "code",
   "execution_count": null,
   "id": "974edc1a",
   "metadata": {},
   "outputs": [],
   "source": []
  },
  {
   "cell_type": "code",
   "execution_count": null,
   "id": "54150e5c",
   "metadata": {},
   "outputs": [],
   "source": []
  },
  {
   "cell_type": "code",
   "execution_count": null,
   "id": "04ae91f8",
   "metadata": {},
   "outputs": [],
   "source": []
  }
 ],
 "metadata": {
  "kernelspec": {
   "display_name": "Python 3 (ipykernel)",
   "language": "python",
   "name": "python3"
  },
  "language_info": {
   "codemirror_mode": {
    "name": "ipython",
    "version": 3
   },
   "file_extension": ".py",
   "mimetype": "text/x-python",
   "name": "python",
   "nbconvert_exporter": "python",
   "pygments_lexer": "ipython3",
   "version": "3.9.12"
  }
 },
 "nbformat": 4,
 "nbformat_minor": 5
}

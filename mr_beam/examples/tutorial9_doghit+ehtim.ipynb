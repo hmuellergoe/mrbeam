{
 "cells": [
  {
   "cell_type": "markdown",
   "id": "315e5659",
   "metadata": {},
   "source": [
    "Tutorial 8: The special advantage of DoG-HiT is that it is completely data driven. The regularization term is fitted to the uv-coverage. There is only one hyperparameter alpha that we have to choose. This make parameter surveys much faster.\n",
    "\n",
    "However, the new wavelet suppressing penalty term could alternatively also combined with the ehtim internal data and regularization terms as an additional penalty term.\n",
    "\n",
    "TUTORIAL STILL UNDER CONSTRUCTION"
   ]
  }
 ],
 "metadata": {
  "kernelspec": {
   "display_name": "Python 3 (ipykernel)",
   "language": "python",
   "name": "python3"
  },
  "language_info": {
   "codemirror_mode": {
    "name": "ipython",
    "version": 3
   },
   "file_extension": ".py",
   "mimetype": "text/x-python",
   "name": "python",
   "nbconvert_exporter": "python",
   "pygments_lexer": "ipython3",
   "version": "3.10.5"
  }
 },
 "nbformat": 4,
 "nbformat_minor": 5
}

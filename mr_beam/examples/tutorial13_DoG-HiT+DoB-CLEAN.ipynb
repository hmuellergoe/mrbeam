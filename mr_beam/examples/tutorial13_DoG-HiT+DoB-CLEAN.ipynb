{
 "cells": [
  {
   "cell_type": "markdown",
   "id": "8718d14b",
   "metadata": {},
   "source": [
    "Tutorial 13: For DoG-HiT we used radial symmetric wavelets. We introduced multi-directional dictionaries for DoB-CLEAN, in particular DoB-wavelets for the analysis of the uv-coverage. These more advanced wavelets could be combined with the RML framework of DoG-HiT.\n",
    "\n",
    "STILL UNDER CONSTRUCTION"
   ]
  }
 ],
 "metadata": {
  "kernelspec": {
   "display_name": "Python 3 (ipykernel)",
   "language": "python",
   "name": "python3"
  },
  "language_info": {
   "codemirror_mode": {
    "name": "ipython",
    "version": 3
   },
   "file_extension": ".py",
   "mimetype": "text/x-python",
   "name": "python",
   "nbconvert_exporter": "python",
   "pygments_lexer": "ipython3",
   "version": "3.10.5"
  }
 },
 "nbformat": 4,
 "nbformat_minor": 5
}

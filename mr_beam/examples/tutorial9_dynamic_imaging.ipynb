{
 "cells": [
  {
   "cell_type": "markdown",
   "id": "3853e05f",
   "metadata": {},
   "source": [
    "Tutorial 9: DoG-HiT computes the multiresolution support as a byproduct of the minimization procedure. This support encodes various kind of information: where is the emission located and what spatial scales are representing the emission? Both information are well desired as a temporal regularizer in dynamic reconstructions. This procedure proved already successful for polarimetry (see tutorial 7). Here we extend this example to dynamic imaging. \n",
    "\n",
    "TUTORIAL STILL UNDER CONSTRUCTION"
   ]
  }
 ],
 "metadata": {
  "kernelspec": {
   "display_name": "Python 3 (ipykernel)",
   "language": "python",
   "name": "python3"
  },
  "language_info": {
   "codemirror_mode": {
    "name": "ipython",
    "version": 3
   },
   "file_extension": ".py",
   "mimetype": "text/x-python",
   "name": "python",
   "nbconvert_exporter": "python",
   "pygments_lexer": "ipython3",
   "version": "3.10.5"
  }
 },
 "nbformat": 4,
 "nbformat_minor": 5
}
